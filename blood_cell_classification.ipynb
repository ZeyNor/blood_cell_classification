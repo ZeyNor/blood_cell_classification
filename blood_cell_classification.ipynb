{
 "cells": [
  {
   "cell_type": "markdown",
   "source": [
    "# Blood Cell Classification\n"
   ],
   "metadata": {
    "collapsed": false
   },
   "id": "3ace4c691247b8b1"
  },
  {
   "cell_type": "code",
   "execution_count": 3,
   "outputs": [
    {
     "name": "stdout",
     "output_type": "stream",
     "text": [
      "Hello World\n"
     ]
    }
   ],
   "source": [
    "print(\"Hello World\")"
   ],
   "metadata": {
    "collapsed": false,
    "ExecuteTime": {
     "end_time": "2023-08-18T19:14:45.616143653Z",
     "start_time": "2023-08-18T19:14:45.606933028Z"
    }
   },
   "id": "cff09bf4b51e5f94"
  },
  {
   "cell_type": "code",
   "execution_count": 4,
   "outputs": [],
   "source": [],
   "metadata": {
    "collapsed": false,
    "ExecuteTime": {
     "end_time": "2023-08-18T19:14:49.667547853Z",
     "start_time": "2023-08-18T19:14:49.623141251Z"
    }
   },
   "id": "7b3dff1e91f34382"
  }
 ],
 "metadata": {
  "kernelspec": {
   "display_name": "Python 3",
   "language": "python",
   "name": "python3"
  },
  "language_info": {
   "codemirror_mode": {
    "name": "ipython",
    "version": 2
   },
   "file_extension": ".py",
   "mimetype": "text/x-python",
   "name": "python",
   "nbconvert_exporter": "python",
   "pygments_lexer": "ipython2",
   "version": "2.7.6"
  }
 },
 "nbformat": 4,
 "nbformat_minor": 5
}
